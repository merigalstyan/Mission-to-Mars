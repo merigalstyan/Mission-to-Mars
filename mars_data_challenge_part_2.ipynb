{
 "cells": [
  {
   "cell_type": "code",
   "execution_count": 87,
   "id": "6a253067",
   "metadata": {},
   "outputs": [],
   "source": [
    "# Import dependencies including pandas and matplotlib for visualization\n",
    "from splinter import Browser\n",
    "from bs4 import BeautifulSoup as soup\n",
    "from webdriver_manager.chrome import ChromeDriverManager\n",
    "import pandas as pd\n",
    "import matplotlib.pyplot as plt\n",
    "import colorama\n",
    "from colorama import Fore"
   ]
  },
  {
   "cell_type": "code",
   "execution_count": 88,
   "id": "15100939",
   "metadata": {},
   "outputs": [],
   "source": [
    "# Create path to the url, read the webpage\n",
    "executable_path = {\"executable_path\": ChromeDriverManager().install()}\n",
    "browser = Browser(\"chrome\", **executable_path, headless=False)\n",
    "url = 'https://data-class-mars-challenge.s3.amazonaws.com/Mars/index.html'\n",
    "browser.visit(url)"
   ]
  },
  {
   "cell_type": "code",
   "execution_count": 89,
   "id": "9ae74ab6",
   "metadata": {},
   "outputs": [],
   "source": [
    "# Parse Html\n",
    "html = browser.html\n",
    "mars_soup = soup(html, 'html.parser')"
   ]
  },
  {
   "cell_type": "code",
   "execution_count": 4,
   "id": "d82d9dca",
   "metadata": {
    "scrolled": false
   },
   "outputs": [],
   "source": [
    "# Retrieve the whole table from the webpage using BeautifulSoup\n",
    "table = mars_soup.find('table', class_='table')"
   ]
  },
  {
   "cell_type": "code",
   "execution_count": 5,
   "id": "335440c6",
   "metadata": {},
   "outputs": [
    {
     "data": {
      "text/plain": [
       "['id', 'terrestrial_date', 'sol', 'ls', 'month', 'min_temp', 'pressure']"
      ]
     },
     "execution_count": 5,
     "metadata": {},
     "output_type": "execute_result"
    }
   ],
   "source": [
    "# Create an empty list to hold headers\n",
    "header_list = []\n",
    "\n",
    "# Find all headers from the table\n",
    "headers = table.find_all('th')\n",
    "\n",
    "# iterate over headers and populate the empty list\n",
    "for header in headers:\n",
    "    header_list.append(header.text)\n",
    "    \n",
    "header_list"
   ]
  },
  {
   "cell_type": "code",
   "execution_count": 6,
   "id": "57bdf20e",
   "metadata": {},
   "outputs": [],
   "source": [
    "# Create an empty list to hold row data\n",
    "row_list = []\n",
    "# Find all the rows \n",
    "table_rows = table.find_all('tr', class_='data-row')\n",
    "# Iterate over table rows, strip the data and append to the list\n",
    "for row in table_rows:\n",
    "    rows = row.find_all('td')\n",
    "    row_info = [info.text.strip() for info in rows if info]\n",
    "    row_list.append(row_info)"
   ]
  },
  {
   "cell_type": "code",
   "execution_count": 7,
   "id": "2abc0b2e",
   "metadata": {},
   "outputs": [],
   "source": [
    "#Quit\n",
    "browser.quit()"
   ]
  },
  {
   "cell_type": "code",
   "execution_count": 8,
   "id": "22ac81ba",
   "metadata": {},
   "outputs": [],
   "source": [
    "# Turn the scraped data into pandas dataframe\n",
    "final_df = pd.DataFrame(row_list, columns=header_list)"
   ]
  },
  {
   "cell_type": "code",
   "execution_count": 82,
   "id": "30a467ba",
   "metadata": {},
   "outputs": [
    {
     "data": {
      "text/html": [
       "<div>\n",
       "<style scoped>\n",
       "    .dataframe tbody tr th:only-of-type {\n",
       "        vertical-align: middle;\n",
       "    }\n",
       "\n",
       "    .dataframe tbody tr th {\n",
       "        vertical-align: top;\n",
       "    }\n",
       "\n",
       "    .dataframe thead th {\n",
       "        text-align: right;\n",
       "    }\n",
       "</style>\n",
       "<table border=\"1\" class=\"dataframe\">\n",
       "  <thead>\n",
       "    <tr style=\"text-align: right;\">\n",
       "      <th></th>\n",
       "      <th>id</th>\n",
       "      <th>terrestrial_date</th>\n",
       "      <th>sol</th>\n",
       "      <th>ls</th>\n",
       "      <th>month</th>\n",
       "      <th>min_temp</th>\n",
       "      <th>pressure</th>\n",
       "    </tr>\n",
       "  </thead>\n",
       "  <tbody>\n",
       "    <tr>\n",
       "      <th>1862</th>\n",
       "      <td>1889</td>\n",
       "      <td>2018-02-23</td>\n",
       "      <td>1973</td>\n",
       "      <td>133</td>\n",
       "      <td>5</td>\n",
       "      <td>-78.0</td>\n",
       "      <td>730.0</td>\n",
       "    </tr>\n",
       "    <tr>\n",
       "      <th>1863</th>\n",
       "      <td>1892</td>\n",
       "      <td>2018-02-24</td>\n",
       "      <td>1974</td>\n",
       "      <td>134</td>\n",
       "      <td>5</td>\n",
       "      <td>-77.0</td>\n",
       "      <td>729.0</td>\n",
       "    </tr>\n",
       "    <tr>\n",
       "      <th>1864</th>\n",
       "      <td>1894</td>\n",
       "      <td>2018-02-25</td>\n",
       "      <td>1975</td>\n",
       "      <td>134</td>\n",
       "      <td>5</td>\n",
       "      <td>-76.0</td>\n",
       "      <td>729.0</td>\n",
       "    </tr>\n",
       "    <tr>\n",
       "      <th>1865</th>\n",
       "      <td>1893</td>\n",
       "      <td>2018-02-26</td>\n",
       "      <td>1976</td>\n",
       "      <td>135</td>\n",
       "      <td>5</td>\n",
       "      <td>-77.0</td>\n",
       "      <td>728.0</td>\n",
       "    </tr>\n",
       "    <tr>\n",
       "      <th>1866</th>\n",
       "      <td>1895</td>\n",
       "      <td>2018-02-27</td>\n",
       "      <td>1977</td>\n",
       "      <td>135</td>\n",
       "      <td>5</td>\n",
       "      <td>-77.0</td>\n",
       "      <td>727.0</td>\n",
       "    </tr>\n",
       "  </tbody>\n",
       "</table>\n",
       "</div>"
      ],
      "text/plain": [
       "        id terrestrial_date   sol   ls month min_temp pressure\n",
       "1862  1889       2018-02-23  1973  133     5    -78.0    730.0\n",
       "1863  1892       2018-02-24  1974  134     5    -77.0    729.0\n",
       "1864  1894       2018-02-25  1975  134     5    -76.0    729.0\n",
       "1865  1893       2018-02-26  1976  135     5    -77.0    728.0\n",
       "1866  1895       2018-02-27  1977  135     5    -77.0    727.0"
      ]
     },
     "execution_count": 82,
     "metadata": {},
     "output_type": "execute_result"
    }
   ],
   "source": [
    "final_df.tail()"
   ]
  },
  {
   "cell_type": "code",
   "execution_count": 11,
   "id": "ef42f218",
   "metadata": {},
   "outputs": [
    {
     "data": {
      "text/plain": [
       "id                  object\n",
       "terrestrial_date    object\n",
       "sol                 object\n",
       "ls                  object\n",
       "month               object\n",
       "min_temp            object\n",
       "pressure            object\n",
       "dtype: object"
      ]
     },
     "execution_count": 11,
     "metadata": {},
     "output_type": "execute_result"
    }
   ],
   "source": [
    "# Check the data types\n",
    "final_df.dtypes"
   ]
  },
  {
   "cell_type": "code",
   "execution_count": 12,
   "id": "808af8f5",
   "metadata": {},
   "outputs": [],
   "source": [
    "# change dtypes into appropriate types\n",
    "mars_df = final_df.astype({'id': int, 'sol': int,'ls': int, 'month': int, 'min_temp': float, 'pressure':float})\n",
    "mars_df['terrestrial_date'] = pd.to_datetime(mars_df['terrestrial_date'])"
   ]
  },
  {
   "cell_type": "code",
   "execution_count": 13,
   "id": "ac851021",
   "metadata": {},
   "outputs": [
    {
     "data": {
      "text/plain": [
       "id                           int64\n",
       "terrestrial_date    datetime64[ns]\n",
       "sol                          int64\n",
       "ls                           int64\n",
       "month                        int64\n",
       "min_temp                   float64\n",
       "pressure                   float64\n",
       "dtype: object"
      ]
     },
     "execution_count": 13,
     "metadata": {},
     "output_type": "execute_result"
    }
   ],
   "source": [
    "mars_df.dtypes"
   ]
  },
  {
   "cell_type": "code",
   "execution_count": 44,
   "id": "c774aa39",
   "metadata": {},
   "outputs": [
    {
     "name": "stdout",
     "output_type": "stream",
     "text": [
      "\u001b[32m There are 12 months on Mars\n"
     ]
    }
   ],
   "source": [
    "# 6: How many months exist on Mars?\n",
    "months_on_mars = mars_df['month'].nunique()\n",
    "print(f'{Fore.GREEN} There are {months_on_mars} months on Mars')"
   ]
  },
  {
   "cell_type": "code",
   "execution_count": 15,
   "id": "2e6f0c15",
   "metadata": {},
   "outputs": [
    {
     "name": "stdout",
     "output_type": "stream",
     "text": [
      "\u001b[34mThere are 1977 days worth of data in this scraped dataset\n"
     ]
    }
   ],
   "source": [
    "# 7: How many Martian (and not Earth) days worth of data exist in the scraped dataset?\n",
    "days_dataset = mars_df['sol'].max()\n",
    "print(f'{Fore.BLUE}There are {days_dataset} days worth of data in this scraped dataset')"
   ]
  },
  {
   "cell_type": "code",
   "execution_count": 151,
   "id": "a8e57ab0",
   "metadata": {},
   "outputs": [],
   "source": [
    "# 8: What are the coldest and the warmest months on Mars (at the location of Curiosity)?\n",
    "# Declare a list to hold average demperatures\n",
    "avg_temp = []\n",
    "\n",
    "# iterate over 12 months\n",
    "for month in range(1,13):\n",
    "    # Get the average for each month using **loc**\n",
    "    per_month = mars_df.loc[mars_df['month'] == month]['min_temp'].mean()\n",
    "    # Assign months and average temps to a dict\n",
    "    avg_month = {\n",
    "        \"months\": month,\n",
    "        \"temps\": round(per_month,2)\n",
    "    }\n",
    "    # Append the dict to the list\n",
    "    avg_temp.append(avg_month)\n",
    "#Convert to dataframe\n",
    "avg_df = pd.DataFrame(avg_temp)"
   ]
  },
  {
   "cell_type": "code",
   "execution_count": 152,
   "id": "cbfaac94",
   "metadata": {},
   "outputs": [
    {
     "name": "stdout",
     "output_type": "stream",
     "text": [
      "\u001b[32mThe third month has the coldest temperature of: -83.31\n",
      "The 8th month is the warmest: -68.38\n"
     ]
    }
   ],
   "source": [
    "# Max and Min temps from the df\n",
    "coldest = min(avg_df['temps'])\n",
    "warmest = max(avg_df['temps'])\n",
    "\n",
    "print(f'{Fore.GREEN}The third month has the coldest temperature of: {coldest}')\n",
    "print(f\"The 8th month is the warmest: {warmest}\")"
   ]
  },
  {
   "cell_type": "code",
   "execution_count": 53,
   "id": "24fd61c8",
   "metadata": {},
   "outputs": [
    {
     "data": {
      "image/png": "[encoded data removed]",
      "text/plain": [
       "<Figure size 640x480 with 1 Axes>"
      ]
     },
     "metadata": {},
     "output_type": "display_data"
    }
   ],
   "source": [
    "# Plot the temperatures for each Martian Month\n",
    "plt.bar(avg_df['months'], avg_df['temps'], color='orange', edgecolor='black')\n",
    "plt.xlabel(\"Martian Months\")\n",
    "plt.ylabel(\"Min_temps\")\n",
    "plt.title(\"Temps for each month on Mars\")\n",
    "plt.show()"
   ]
  },
  {
   "cell_type": "code",
   "execution_count": 153,
   "id": "5531b435",
   "metadata": {},
   "outputs": [
    {
     "data": {
      "text/html": [
       "<div>\n",
       "<style scoped>\n",
       "    .dataframe tbody tr th:only-of-type {\n",
       "        vertical-align: middle;\n",
       "    }\n",
       "\n",
       "    .dataframe tbody tr th {\n",
       "        vertical-align: top;\n",
       "    }\n",
       "\n",
       "    .dataframe thead th {\n",
       "        text-align: right;\n",
       "    }\n",
       "</style>\n",
       "<table border=\"1\" class=\"dataframe\">\n",
       "  <thead>\n",
       "    <tr style=\"text-align: right;\">\n",
       "      <th></th>\n",
       "      <th>months</th>\n",
       "      <th>pressure</th>\n",
       "    </tr>\n",
       "  </thead>\n",
       "  <tbody>\n",
       "    <tr>\n",
       "      <th>0</th>\n",
       "      <td>1</td>\n",
       "      <td>862.49</td>\n",
       "    </tr>\n",
       "    <tr>\n",
       "      <th>1</th>\n",
       "      <td>2</td>\n",
       "      <td>889.46</td>\n",
       "    </tr>\n",
       "    <tr>\n",
       "      <th>2</th>\n",
       "      <td>3</td>\n",
       "      <td>877.32</td>\n",
       "    </tr>\n",
       "    <tr>\n",
       "      <th>3</th>\n",
       "      <td>4</td>\n",
       "      <td>806.33</td>\n",
       "    </tr>\n",
       "    <tr>\n",
       "      <th>4</th>\n",
       "      <td>5</td>\n",
       "      <td>748.56</td>\n",
       "    </tr>\n",
       "    <tr>\n",
       "      <th>5</th>\n",
       "      <td>6</td>\n",
       "      <td>745.05</td>\n",
       "    </tr>\n",
       "    <tr>\n",
       "      <th>6</th>\n",
       "      <td>7</td>\n",
       "      <td>795.11</td>\n",
       "    </tr>\n",
       "    <tr>\n",
       "      <th>7</th>\n",
       "      <td>8</td>\n",
       "      <td>873.83</td>\n",
       "    </tr>\n",
       "    <tr>\n",
       "      <th>8</th>\n",
       "      <td>9</td>\n",
       "      <td>913.31</td>\n",
       "    </tr>\n",
       "    <tr>\n",
       "      <th>9</th>\n",
       "      <td>10</td>\n",
       "      <td>887.31</td>\n",
       "    </tr>\n",
       "    <tr>\n",
       "      <th>10</th>\n",
       "      <td>11</td>\n",
       "      <td>857.01</td>\n",
       "    </tr>\n",
       "    <tr>\n",
       "      <th>11</th>\n",
       "      <td>12</td>\n",
       "      <td>842.16</td>\n",
       "    </tr>\n",
       "  </tbody>\n",
       "</table>\n",
       "</div>"
      ],
      "text/plain": [
       "    months  pressure\n",
       "0        1    862.49\n",
       "1        2    889.46\n",
       "2        3    877.32\n",
       "3        4    806.33\n",
       "4        5    748.56\n",
       "5        6    745.05\n",
       "6        7    795.11\n",
       "7        8    873.83\n",
       "8        9    913.31\n",
       "9       10    887.31\n",
       "10      11    857.01\n",
       "11      12    842.16"
      ]
     },
     "execution_count": 153,
     "metadata": {},
     "output_type": "execute_result"
    }
   ],
   "source": [
    "# 8: Which months have the lowest and the highest atmospheric pressure on Mars?\n",
    "\n",
    "# An empty list to assign atmospheric pressure later on\n",
    "atm_pressure = []\n",
    "\n",
    "# Iterate over each Martian month\n",
    "for month in range(1,months_on_mars+1):\n",
    "    # Get the avg monthly pressure by accessing the appropriate columns\n",
    "    monthly_pr = mars_df.loc[mars_df['month'] == month]['pressure'].mean()\n",
    "    # Assign avg_pressure to a dict\n",
    "    average_pr = {\n",
    "        \"months\": month,\n",
    "        \"pressure\": round(monthly_pr,2)\n",
    "    }\n",
    "    # Append the dict to the list created above\n",
    "    atm_pressure.append(average_pr)\n",
    "# List to df\n",
    "pressure_df = pd.DataFrame(atm_pressure)\n",
    "pressure_df\n"
   ]
  },
  {
   "cell_type": "code",
   "execution_count": 70,
   "id": "3232e360",
   "metadata": {},
   "outputs": [
    {
     "name": "stdout",
     "output_type": "stream",
     "text": [
      "\u001b[34mThe maximum atmospheric pressure is: 913.31\n",
      "The min atmospheric pressure is: 745.05\n"
     ]
    }
   ],
   "source": [
    "# MAX and MIN atmospheric pressure\n",
    "high = max(pressure_df['pressure'])\n",
    "low = min(pressure_df['pressure'])\n",
    "print(f'{Fore.BLUE}The maximum atmospheric pressure is: {high}')\n",
    "print(f'The min atmospheric pressure is: {low}')"
   ]
  },
  {
   "cell_type": "code",
   "execution_count": 149,
   "id": "58dde93b",
   "metadata": {},
   "outputs": [
    {
     "data": {
      "image/png": "[encoded data removed]",
      "text/plain": [
       "<Figure size 640x480 with 1 Axes>"
      ]
     },
     "metadata": {},
     "output_type": "display_data"
    }
   ],
   "source": [
    "# Plot a bar chart showing the avg atmospheric pressure over months\n",
    "plt.bar(pressure_df['months'], pressure_df['pressure'], color=\"pink\", edgecolor='purple')\n",
    "plt.xlabel(\"Martian Months\")\n",
    "plt.ylabel(\"Atmospheric Pressure\")\n",
    "plt.title(\"Average Atmospheric Pressure on Mars per Month\")\n",
    "plt.show()"
   ]
  },
  {
   "cell_type": "code",
   "execution_count": 112,
   "id": "cc77755c",
   "metadata": {},
   "outputs": [
    {
     "data": {
      "image/png": "[encoded data removed]",
      "text/plain": [
       "<Figure size 640x480 with 1 Axes>"
      ]
     },
     "metadata": {},
     "output_type": "display_data"
    }
   ],
   "source": [
    "# 9: About how many terrestrial (Earth) days exist in a Martian year? \n",
    "# Plot a bar chart comparing temperatures over sols to retrieve apporximate number of seasons\n",
    "plt.bar(mars_df['sol'], mars_df['min_temp'], edgecolor='green')\n",
    "plt.xlabel(\"The number of elapsed sols (Martian days)\")\n",
    "plt.ylabel(\"min_temp\")\n",
    "plt.title(\"Temps throughout sols\")\n",
    "plt.show()\n"
   ]
  },
  {
   "cell_type": "code",
   "execution_count": 148,
   "id": "14372c3f",
   "metadata": {},
   "outputs": [
    {
     "name": "stdout",
     "output_type": "stream",
     "text": [
      "Terrestrial date shows about 6 years of data, that had to result in about 24 earth seasons\n",
      "However, from the graph and the table we can observe __almost__ 3 seasons throughout 1977 sols\u001b[34m DUE TO partial data\n",
      "\u001b[32mThus, the approximate number of days in a Martian year is about 686.0\n"
     ]
    }
   ],
   "source": [
    "print(\"Terrestrial date shows about 6 years of data, that had to result in about 24 earth seasons\")\n",
    "print(f\"However, from the graph and the table we can observe __almost__ 3 seasons throughout 1977 sols\\\n",
    "{Fore.BLUE} DUE TO partial data\")\n",
    "print(f\"{Fore.GREEN}Thus, the approximate number of days in a Martian year is about {round(1977/2.88, 0)}\")"
   ]
  },
  {
   "cell_type": "code",
   "execution_count": null,
   "id": "9bea5e91",
   "metadata": {
    "scrolled": true
   },
   "outputs": [],
   "source": []
  }
 ],
 "metadata": {
  "kernelspec": {
   "display_name": "PythonData",
   "language": "python",
   "name": "pythondata"
  },
  "language_info": {
   "codemirror_mode": {
    "name": "ipython",
    "version": 3
   },
   "file_extension": ".py",
   "mimetype": "text/x-python",
   "name": "python",
   "nbconvert_exporter": "python",
   "pygments_lexer": "ipython3",
   "version": "3.9.12"
  }
 },
 "nbformat": 4,
 "nbformat_minor": 5
}
